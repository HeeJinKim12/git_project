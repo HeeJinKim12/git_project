{
 "cells": [
  {
   "cell_type": "code",
   "execution_count": 1,
   "id": "1acb5588-6677-45b6-b9ab-79f421fbcf24",
   "metadata": {},
   "outputs": [
    {
     "name": "stdout",
     "output_type": "stream",
     "text": [
      "Member 1이 작업함 \n"
     ]
    }
   ],
   "source": [
    "print('Member 1이 작업함 ')"
   ]
  },
  {
   "cell_type": "code",
   "execution_count": 3,
   "id": "cb63572d-ded3-498c-8a0f-604c1803f860",
   "metadata": {},
   "outputs": [
    {
     "name": "stdout",
     "output_type": "stream",
     "text": [
      "Member 1이 또 작업함 \n"
     ]
    }
   ],
   "source": [
    "print('Member 1이 또 작업함 ')"
   ]
  },
  {
   "cell_type": "code",
   "execution_count": 5,
   "id": "d201c035-968a-481f-99d2-d97fec4a4eae",
   "metadata": {},
   "outputs": [
    {
     "name": "stdout",
     "output_type": "stream",
     "text": [
      "브랜치에서 작업함\n"
     ]
    }
   ],
   "source": [
    "print('브랜치에서 작업함')"
   ]
  },
  {
   "cell_type": "code",
   "execution_count": 1,
   "id": "ba15dd98-fb65-4eec-89bf-a7ebda84eb09",
   "metadata": {},
   "outputs": [
    {
     "name": "stdout",
     "output_type": "stream",
     "text": [
      "전우치가 작업함\n"
     ]
    }
   ],
   "source": [
    "print('전우치가 작업함')"
   ]
  },
  {
   "cell_type": "code",
   "execution_count": null,
   "id": "5359d797-9b45-4412-814c-a51f360f4dee",
   "metadata": {},
   "outputs": [],
   "source": []
  }
 ],
 "metadata": {
  "kernelspec": {
   "display_name": "Python 3 (ipykernel)",
   "language": "python",
   "name": "python3"
  },
  "language_info": {
   "codemirror_mode": {
    "name": "ipython",
    "version": 3
   },
   "file_extension": ".py",
   "mimetype": "text/x-python",
   "name": "python",
   "nbconvert_exporter": "python",
   "pygments_lexer": "ipython3",
   "version": "3.11.5"
  }
 },
 "nbformat": 4,
 "nbformat_minor": 5
}
